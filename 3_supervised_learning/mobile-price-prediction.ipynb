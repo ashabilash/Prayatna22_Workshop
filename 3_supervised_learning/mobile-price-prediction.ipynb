{
 "cells": [
  {
   "cell_type": "markdown",
   "metadata": {},
   "source": [
    "\n",
    "\n",
    "<div class=\"inner_cell\">\n",
    "<div class=\"text_cell_render border-box-sizing rendered_html\">\n",
    "<p></p><div class=\"list-group\" id=\"list-tab\" role=\"tablist\">\n",
    "  <h3 class=\"list-group-item list-group-item-action active\" data-toggle=\"list\" role=\"tab\" aria-controls=\"home\">Notebook Content</h3>\n",
    "  <a class=\"list-group-item list-group-item-action\" data-toggle=\"list\" href=\"#1\" role=\"tab\" aria-controls=\"profile\" target=\"_self\">Libraries and Utilities<span class=\"badge badge-primary badge-pill\">1</span></a>\n",
    "  <a class=\"list-group-item list-group-item-action\" data-toggle=\"list\" href=\"#2\" role=\"tab\" aria-controls=\"messages\" target=\"_self\">Load and Check Data<span class=\"badge badge-primary badge-pill\">2</span></a>\n",
    "  <a class=\"list-group-item list-group-item-action\" data-toggle=\"list\" href=\"#3\" role=\"tab\" aria-controls=\"settings\" target=\"_self\">Descriptive Statistics<span class=\"badge badge-primary badge-pill\">3</span></a>\n",
    "  <a class=\"list-group-item list-group-item-action\" data-toggle=\"list\" href=\"#4\" role=\"tab\" aria-controls=\"settings\" target=\"_self\">Data Analysis<span class=\"badge badge-primary badge-pill\">4</span></a> \n",
    "  <a class=\"list-group-item list-group-item-action\" data-toggle=\"list\" href=\"#13\" role=\"tab\" aria-controls=\"settings\" target=\"_self\">Preprocessing<span class=\"badge badge-primary badge-pill\">5</span></a>\n",
    "    <a class=\"list-group-item list-group-item-action\" data-toggle=\"list\" href=\"#16\" role=\"tab\" aria-controls=\"settings\" target=\"_self\">Models<span class=\"badge badge-primary badge-pill\">6</span></a>\n",
    "\n",
    "\n",
    "</div>\n",
    "</div>\n",
    "</div>"
   ]
  },
  {
   "cell_type": "markdown",
   "metadata": {},
   "source": [
    "<a id = \"1\"></a>\n",
    "<span style=\"color:#337AB7;\n",
    "             font-size:200%;\">\n",
    "# Libraries and Utilities"
   ]
  },
  {
   "cell_type": "code",
   "execution_count": null,
   "metadata": {},
   "outputs": [],
   "source": [
    "import numpy as np\n",
    "import pandas as pd\n",
    "\n",
    "import seaborn as sns\n",
    "import matplotlib.pyplot as plt\n",
    "sns.set_style(\"darkgrid\")\n",
    "\n",
    "from collections import Counter\n",
    "\n",
    "from sklearn.preprocessing import StandardScaler\n",
    "from sklearn.preprocessing import RobustScaler\n",
    "from sklearn.preprocessing import label_binarize\n",
    "\n",
    "from sklearn.ensemble import RandomForestClassifier\n",
    "from sklearn.ensemble import VotingClassifier\n",
    "from sklearn.ensemble import GradientBoostingClassifier\n",
    "\n",
    "from sklearn.svm import SVC\n",
    "from sklearn.svm import LinearSVC\n",
    "\n",
    "from sklearn.neighbors import KNeighborsClassifier\n",
    "from sklearn.tree import DecisionTreeClassifier\n",
    "from sklearn.linear_model import LogisticRegression\n",
    "from sklearn.linear_model import SGDClassifier\n",
    "from sklearn.discriminant_analysis import LinearDiscriminantAnalysis as LDA\n",
    "\n",
    "from sklearn.model_selection import train_test_split\n",
    "from sklearn.model_selection import StratifiedKFold\n",
    "from sklearn.model_selection import GridSearchCV, RandomizedSearchCV\n",
    "\n",
    "from sklearn.metrics import confusion_matrix\n",
    "from sklearn.metrics import classification_report\n",
    "from sklearn.metrics import roc_auc_score\n",
    "from sklearn.metrics import auc\n",
    "from sklearn.metrics import precision_score\n",
    "from sklearn.metrics import recall_score\n",
    "from sklearn.metrics import accuracy_score\n",
    "from sklearn.metrics import mean_squared_error\n",
    "from sklearn.metrics import f1_score\n",
    "from sklearn.metrics import roc_curve\n",
    "from sklearn.multiclass import OneVsRestClassifier\n",
    "\n",
    "\n",
    "\n",
    "import warnings\n",
    "warnings.filterwarnings(\"ignore\")\n",
    "\n",
    "\n"
   ]
  },
  {
   "cell_type": "markdown",
   "metadata": {
    "jupyter": {
     "outputs_hidden": true
    },
    "tags": []
   },
   "source": [
    "!pip install xgboost lightgbm"
   ]
  },
  {
   "cell_type": "code",
   "execution_count": null,
   "metadata": {},
   "outputs": [],
   "source": [
    "from lightgbm import LGBMClassifier\n",
    "from xgboost import XGBClassifier"
   ]
  },
  {
   "cell_type": "markdown",
   "metadata": {},
   "source": [
    "<a id = \"2\"></a>\n",
    "<span style=\"color:#337AB7;\n",
    "             font-size:200%;\">\n",
    "Load and Check Data"
   ]
  },
  {
   "cell_type": "code",
   "execution_count": 62,
   "metadata": {},
   "outputs": [
    {
     "data": {
      "text/html": [
       "<div>\n",
       "<style scoped>\n",
       "    .dataframe tbody tr th:only-of-type {\n",
       "        vertical-align: middle;\n",
       "    }\n",
       "\n",
       "    .dataframe tbody tr th {\n",
       "        vertical-align: top;\n",
       "    }\n",
       "\n",
       "    .dataframe thead th {\n",
       "        text-align: right;\n",
       "    }\n",
       "</style>\n",
       "<table border=\"1\" class=\"dataframe\">\n",
       "  <thead>\n",
       "    <tr style=\"text-align: right;\">\n",
       "      <th></th>\n",
       "      <th>battery_power</th>\n",
       "      <th>blue</th>\n",
       "      <th>clock_speed</th>\n",
       "      <th>dual_sim</th>\n",
       "      <th>fc</th>\n",
       "      <th>four_g</th>\n",
       "      <th>int_memory</th>\n",
       "      <th>m_dep</th>\n",
       "      <th>mobile_wt</th>\n",
       "      <th>n_cores</th>\n",
       "      <th>...</th>\n",
       "      <th>px_height</th>\n",
       "      <th>px_width</th>\n",
       "      <th>ram</th>\n",
       "      <th>sc_h</th>\n",
       "      <th>sc_w</th>\n",
       "      <th>talk_time</th>\n",
       "      <th>three_g</th>\n",
       "      <th>touch_screen</th>\n",
       "      <th>wifi</th>\n",
       "      <th>price_range</th>\n",
       "    </tr>\n",
       "  </thead>\n",
       "  <tbody>\n",
       "    <tr>\n",
       "      <th>0</th>\n",
       "      <td>842</td>\n",
       "      <td>0</td>\n",
       "      <td>2.2</td>\n",
       "      <td>0</td>\n",
       "      <td>1</td>\n",
       "      <td>0</td>\n",
       "      <td>7</td>\n",
       "      <td>0.6</td>\n",
       "      <td>188</td>\n",
       "      <td>2</td>\n",
       "      <td>...</td>\n",
       "      <td>20</td>\n",
       "      <td>756</td>\n",
       "      <td>2549</td>\n",
       "      <td>9</td>\n",
       "      <td>7</td>\n",
       "      <td>19</td>\n",
       "      <td>0</td>\n",
       "      <td>0</td>\n",
       "      <td>1</td>\n",
       "      <td>1</td>\n",
       "    </tr>\n",
       "    <tr>\n",
       "      <th>1</th>\n",
       "      <td>1021</td>\n",
       "      <td>1</td>\n",
       "      <td>0.5</td>\n",
       "      <td>1</td>\n",
       "      <td>0</td>\n",
       "      <td>1</td>\n",
       "      <td>53</td>\n",
       "      <td>0.7</td>\n",
       "      <td>136</td>\n",
       "      <td>3</td>\n",
       "      <td>...</td>\n",
       "      <td>905</td>\n",
       "      <td>1988</td>\n",
       "      <td>2631</td>\n",
       "      <td>17</td>\n",
       "      <td>3</td>\n",
       "      <td>7</td>\n",
       "      <td>1</td>\n",
       "      <td>1</td>\n",
       "      <td>0</td>\n",
       "      <td>2</td>\n",
       "    </tr>\n",
       "    <tr>\n",
       "      <th>2</th>\n",
       "      <td>563</td>\n",
       "      <td>1</td>\n",
       "      <td>0.5</td>\n",
       "      <td>1</td>\n",
       "      <td>2</td>\n",
       "      <td>1</td>\n",
       "      <td>41</td>\n",
       "      <td>0.9</td>\n",
       "      <td>145</td>\n",
       "      <td>5</td>\n",
       "      <td>...</td>\n",
       "      <td>1263</td>\n",
       "      <td>1716</td>\n",
       "      <td>2603</td>\n",
       "      <td>11</td>\n",
       "      <td>2</td>\n",
       "      <td>9</td>\n",
       "      <td>1</td>\n",
       "      <td>1</td>\n",
       "      <td>0</td>\n",
       "      <td>2</td>\n",
       "    </tr>\n",
       "    <tr>\n",
       "      <th>3</th>\n",
       "      <td>615</td>\n",
       "      <td>1</td>\n",
       "      <td>2.5</td>\n",
       "      <td>0</td>\n",
       "      <td>0</td>\n",
       "      <td>0</td>\n",
       "      <td>10</td>\n",
       "      <td>0.8</td>\n",
       "      <td>131</td>\n",
       "      <td>6</td>\n",
       "      <td>...</td>\n",
       "      <td>1216</td>\n",
       "      <td>1786</td>\n",
       "      <td>2769</td>\n",
       "      <td>16</td>\n",
       "      <td>8</td>\n",
       "      <td>11</td>\n",
       "      <td>1</td>\n",
       "      <td>0</td>\n",
       "      <td>0</td>\n",
       "      <td>2</td>\n",
       "    </tr>\n",
       "    <tr>\n",
       "      <th>4</th>\n",
       "      <td>1821</td>\n",
       "      <td>1</td>\n",
       "      <td>1.2</td>\n",
       "      <td>0</td>\n",
       "      <td>13</td>\n",
       "      <td>1</td>\n",
       "      <td>44</td>\n",
       "      <td>0.6</td>\n",
       "      <td>141</td>\n",
       "      <td>2</td>\n",
       "      <td>...</td>\n",
       "      <td>1208</td>\n",
       "      <td>1212</td>\n",
       "      <td>1411</td>\n",
       "      <td>8</td>\n",
       "      <td>2</td>\n",
       "      <td>15</td>\n",
       "      <td>1</td>\n",
       "      <td>1</td>\n",
       "      <td>0</td>\n",
       "      <td>1</td>\n",
       "    </tr>\n",
       "    <tr>\n",
       "      <th>5</th>\n",
       "      <td>1859</td>\n",
       "      <td>0</td>\n",
       "      <td>0.5</td>\n",
       "      <td>1</td>\n",
       "      <td>3</td>\n",
       "      <td>0</td>\n",
       "      <td>22</td>\n",
       "      <td>0.7</td>\n",
       "      <td>164</td>\n",
       "      <td>1</td>\n",
       "      <td>...</td>\n",
       "      <td>1004</td>\n",
       "      <td>1654</td>\n",
       "      <td>1067</td>\n",
       "      <td>17</td>\n",
       "      <td>1</td>\n",
       "      <td>10</td>\n",
       "      <td>1</td>\n",
       "      <td>0</td>\n",
       "      <td>0</td>\n",
       "      <td>1</td>\n",
       "    </tr>\n",
       "    <tr>\n",
       "      <th>6</th>\n",
       "      <td>1821</td>\n",
       "      <td>0</td>\n",
       "      <td>1.7</td>\n",
       "      <td>0</td>\n",
       "      <td>4</td>\n",
       "      <td>1</td>\n",
       "      <td>10</td>\n",
       "      <td>0.8</td>\n",
       "      <td>139</td>\n",
       "      <td>8</td>\n",
       "      <td>...</td>\n",
       "      <td>381</td>\n",
       "      <td>1018</td>\n",
       "      <td>3220</td>\n",
       "      <td>13</td>\n",
       "      <td>8</td>\n",
       "      <td>18</td>\n",
       "      <td>1</td>\n",
       "      <td>0</td>\n",
       "      <td>1</td>\n",
       "      <td>3</td>\n",
       "    </tr>\n",
       "    <tr>\n",
       "      <th>7</th>\n",
       "      <td>1954</td>\n",
       "      <td>0</td>\n",
       "      <td>0.5</td>\n",
       "      <td>1</td>\n",
       "      <td>0</td>\n",
       "      <td>0</td>\n",
       "      <td>24</td>\n",
       "      <td>0.8</td>\n",
       "      <td>187</td>\n",
       "      <td>4</td>\n",
       "      <td>...</td>\n",
       "      <td>512</td>\n",
       "      <td>1149</td>\n",
       "      <td>700</td>\n",
       "      <td>16</td>\n",
       "      <td>3</td>\n",
       "      <td>5</td>\n",
       "      <td>1</td>\n",
       "      <td>1</td>\n",
       "      <td>1</td>\n",
       "      <td>0</td>\n",
       "    </tr>\n",
       "    <tr>\n",
       "      <th>8</th>\n",
       "      <td>1445</td>\n",
       "      <td>1</td>\n",
       "      <td>0.5</td>\n",
       "      <td>0</td>\n",
       "      <td>0</td>\n",
       "      <td>0</td>\n",
       "      <td>53</td>\n",
       "      <td>0.7</td>\n",
       "      <td>174</td>\n",
       "      <td>7</td>\n",
       "      <td>...</td>\n",
       "      <td>386</td>\n",
       "      <td>836</td>\n",
       "      <td>1099</td>\n",
       "      <td>17</td>\n",
       "      <td>1</td>\n",
       "      <td>20</td>\n",
       "      <td>1</td>\n",
       "      <td>0</td>\n",
       "      <td>0</td>\n",
       "      <td>0</td>\n",
       "    </tr>\n",
       "    <tr>\n",
       "      <th>9</th>\n",
       "      <td>509</td>\n",
       "      <td>1</td>\n",
       "      <td>0.6</td>\n",
       "      <td>1</td>\n",
       "      <td>2</td>\n",
       "      <td>1</td>\n",
       "      <td>9</td>\n",
       "      <td>0.1</td>\n",
       "      <td>93</td>\n",
       "      <td>5</td>\n",
       "      <td>...</td>\n",
       "      <td>1137</td>\n",
       "      <td>1224</td>\n",
       "      <td>513</td>\n",
       "      <td>19</td>\n",
       "      <td>10</td>\n",
       "      <td>12</td>\n",
       "      <td>1</td>\n",
       "      <td>0</td>\n",
       "      <td>0</td>\n",
       "      <td>0</td>\n",
       "    </tr>\n",
       "  </tbody>\n",
       "</table>\n",
       "<p>10 rows × 21 columns</p>\n",
       "</div>"
      ],
      "text/plain": [
       "   battery_power  blue  clock_speed  dual_sim  fc  four_g  int_memory  m_dep  \\\n",
       "0            842     0          2.2         0   1       0           7    0.6   \n",
       "1           1021     1          0.5         1   0       1          53    0.7   \n",
       "2            563     1          0.5         1   2       1          41    0.9   \n",
       "3            615     1          2.5         0   0       0          10    0.8   \n",
       "4           1821     1          1.2         0  13       1          44    0.6   \n",
       "5           1859     0          0.5         1   3       0          22    0.7   \n",
       "6           1821     0          1.7         0   4       1          10    0.8   \n",
       "7           1954     0          0.5         1   0       0          24    0.8   \n",
       "8           1445     1          0.5         0   0       0          53    0.7   \n",
       "9            509     1          0.6         1   2       1           9    0.1   \n",
       "\n",
       "   mobile_wt  n_cores  ...  px_height  px_width   ram  sc_h  sc_w  talk_time  \\\n",
       "0        188        2  ...         20       756  2549     9     7         19   \n",
       "1        136        3  ...        905      1988  2631    17     3          7   \n",
       "2        145        5  ...       1263      1716  2603    11     2          9   \n",
       "3        131        6  ...       1216      1786  2769    16     8         11   \n",
       "4        141        2  ...       1208      1212  1411     8     2         15   \n",
       "5        164        1  ...       1004      1654  1067    17     1         10   \n",
       "6        139        8  ...        381      1018  3220    13     8         18   \n",
       "7        187        4  ...        512      1149   700    16     3          5   \n",
       "8        174        7  ...        386       836  1099    17     1         20   \n",
       "9         93        5  ...       1137      1224   513    19    10         12   \n",
       "\n",
       "   three_g  touch_screen  wifi  price_range  \n",
       "0        0             0     1            1  \n",
       "1        1             1     0            2  \n",
       "2        1             1     0            2  \n",
       "3        1             0     0            2  \n",
       "4        1             1     0            1  \n",
       "5        1             0     0            1  \n",
       "6        1             0     1            3  \n",
       "7        1             1     1            0  \n",
       "8        1             0     0            0  \n",
       "9        1             0     0            0  \n",
       "\n",
       "[10 rows x 21 columns]"
      ]
     },
     "execution_count": 62,
     "metadata": {},
     "output_type": "execute_result"
    }
   ],
   "source": [
    "df = pd.read_csv('../datasets/mobile_price_classification/train.csv')\n",
    "df.head(10)"
   ]
  },
  {
   "cell_type": "code",
   "execution_count": null,
   "metadata": {},
   "outputs": [],
   "source": [
    "df.info()"
   ]
  },
  {
   "cell_type": "markdown",
   "metadata": {},
   "source": [
    "<a id = \"3\"></a>\n",
    "<span style=\"color:#337AB7;\n",
    "             font-size:200%;\">\n",
    "Descriptive Statistics"
   ]
  },
  {
   "cell_type": "code",
   "execution_count": null,
   "metadata": {},
   "outputs": [],
   "source": [
    "desc = df.describe().T\n",
    "df1 = pd.DataFrame(index=['battery_power', 'blue', 'clock_speed', 'dual_sim',\n",
    "                          'fc', 'four_g', 'int_memory', 'm_dep', 'mobile_wt', \n",
    "                          'n_cores', 'pc', 'px_height', 'px_width', 'ram', \n",
    "                          'sc_h', 'sc_w', 'talk_time', 'three_g','touch_screen',\n",
    "                          'wifi', 'price_range'], \n",
    "                   columns= [\"count\",\"mean\",\"std\",\"min\",\n",
    "                             \"25%\",\"50%\",\"75%\",\"max\"], data= desc )\n",
    "\n",
    "f,ax = plt.subplots(figsize=(12,12))\n",
    "\n",
    "sns.heatmap(df1, annot=True,cmap = \"Blues\", fmt= '.0f',\n",
    "            ax=ax,linewidths = 5, cbar = False,\n",
    "            annot_kws={\"size\": 16})\n",
    "\n",
    "plt.xticks(size = 18)\n",
    "plt.yticks(size = 12, rotation = 0)\n",
    "plt.ylabel(\"Variables\")\n",
    "plt.title(\"Descriptive Statistics\", size = 16)\n",
    "plt.show()"
   ]
  },
  {
   "cell_type": "markdown",
   "metadata": {},
   "source": [
    "<a id = \"4\"></a>\n",
    "<span style=\"color:#337AB7;\n",
    "             font-size:200%;\">\n",
    "Data Analysis\n",
    "    \n",
    "<a id = \"5\"></a>\n",
    "<span style=\"color:#337AB7;\n",
    "             font-size:180%;\">\n",
    "Ram - Battery Power - Price Range"
   ]
  },
  {
   "cell_type": "code",
   "execution_count": null,
   "metadata": {},
   "outputs": [],
   "source": [
    "sns.scatterplot(x='ram', y='battery_power', data=df, hue='price_range', palette=\"deep\")"
   ]
  },
  {
   "cell_type": "markdown",
   "metadata": {},
   "source": [
    "<a id = \"10\"></a>\n",
    "<span style=\"color:#337AB7;\n",
    "             font-size:180%;\">\n",
    "3G - 4G"
   ]
  },
  {
   "cell_type": "code",
   "execution_count": null,
   "metadata": {},
   "outputs": [],
   "source": [
    "values_3g = df[\"three_g\"].value_counts()\n",
    "values_4g = df[\"four_g\"].value_counts()\n",
    "\n",
    "labels4g = [\"4G-supported\",'Not supported']\n",
    "labels3g = [\"3G-supported\",'Not supported']\n",
    "\n",
    "colors = [\"violet\", \"cornflowerblue\"]\n",
    "\n",
    "fig = plt.figure(figsize=(10,10))\n",
    "ax1 = plt.subplot2grid((2,2),(0,0))\n",
    "plt.pie(x= values_3g, autopct=\"%.2f%%\",\n",
    "        labels=labels3g, pctdistance=0.6,\n",
    "        colors = colors)\n",
    "plt.title('3G', size = 14)\n",
    "\n",
    "ax1 = plt.subplot2grid((2,2), (0, 1))\n",
    "plt.pie(x =values_4g,autopct=\"%.2f%%\", \n",
    "        labels=labels4g, pctdistance=0.6, \n",
    "        colors = colors)\n",
    "plt.title('4G', size = 14)\n",
    "plt.show()"
   ]
  },
  {
   "cell_type": "markdown",
   "metadata": {},
   "source": [
    "<span style=\"color:#337AB7;\n",
    "             font-size:180%;\">\n",
    "Price Range"
   ]
  },
  {
   "cell_type": "code",
   "execution_count": null,
   "metadata": {},
   "outputs": [],
   "source": [
    "sns.countplot(data=df, x ='price_range')"
   ]
  },
  {
   "cell_type": "markdown",
   "metadata": {},
   "source": [
    "<a id = \"22\"></a>\n",
    "<span style=\"color:#337AB7;\n",
    "             font-size:180%;\">\n",
    "N Cores"
   ]
  },
  {
   "cell_type": "code",
   "execution_count": null,
   "metadata": {},
   "outputs": [],
   "source": [
    "sns.countplot(data=df, x ='n_cores')"
   ]
  },
  {
   "cell_type": "markdown",
   "metadata": {},
   "source": [
    "<a id = \"23\"></a>\n",
    "<span style=\"color:#337AB7;\n",
    "             font-size:180%;\">\n",
    "Bluetooth"
   ]
  },
  {
   "cell_type": "code",
   "execution_count": null,
   "metadata": {},
   "outputs": [],
   "source": [
    "df['blue'].value_counts()"
   ]
  },
  {
   "cell_type": "code",
   "execution_count": null,
   "metadata": {},
   "outputs": [],
   "source": [
    "plt.pie(df['blue'].value_counts(), labels = ['Without Bluetooth', 'With Bluetooth'],\n",
    "             autopct='%1.1f%%', pctdistance=0.85)\n",
    "centre_circle = plt.Circle((0, 0), 0.70, fc='white')\n",
    "fig = plt.gcf()\n",
    "  \n",
    "# Adding Circle in Pie chart\n",
    "fig.gca().add_artist(centre_circle) "
   ]
  },
  {
   "cell_type": "markdown",
   "metadata": {},
   "source": [
    "<span style=\"color:#337AB7;\n",
    "             font-size:180%;\">\n",
    "Dual Sim"
   ]
  },
  {
   "cell_type": "code",
   "execution_count": null,
   "metadata": {},
   "outputs": [],
   "source": [
    "df['dual_sim'].value_counts()"
   ]
  },
  {
   "cell_type": "code",
   "execution_count": null,
   "metadata": {},
   "outputs": [],
   "source": [
    "plt.pie(df['dual_sim'].value_counts().sort_index(), labels = ['No', 'Yes'],\n",
    "             autopct='%1.1f%%', pctdistance=0.85)\n",
    "centre_circle = plt.Circle((0, 0), 0.70, fc='white')\n",
    "fig = plt.gcf()\n",
    "  \n",
    "# Adding Circle in Pie chart\n",
    "fig.gca().add_artist(centre_circle) \n",
    "plt.title(\"Dual sim\",fontsize=20)"
   ]
  },
  {
   "cell_type": "markdown",
   "metadata": {},
   "source": [
    "<span style=\"color:#337AB7;\n",
    "             font-size:180%;\">\n",
    "Wifi"
   ]
  },
  {
   "cell_type": "code",
   "execution_count": null,
   "metadata": {},
   "outputs": [],
   "source": [
    "plt.pie(df['wifi'].value_counts().sort_index(), labels = ['No', 'Yes'],\n",
    "             autopct='%1.1f%%', pctdistance=0.85)\n",
    "centre_circle = plt.Circle((0, 0), 0.70, fc='white')\n",
    "fig = plt.gcf()\n",
    "  \n",
    "# Adding Circle in Pie chart\n",
    "fig.gca().add_artist(centre_circle) \n",
    "plt.title(\"Wifi\",fontsize=20)"
   ]
  },
  {
   "cell_type": "markdown",
   "metadata": {},
   "source": [
    "<span style=\"color:#337AB7;\n",
    "             font-size:180%;\">\n",
    "Ram"
   ]
  },
  {
   "cell_type": "code",
   "execution_count": null,
   "metadata": {},
   "outputs": [],
   "source": [
    "plt.hist(df['ram'])"
   ]
  },
  {
   "cell_type": "markdown",
   "metadata": {},
   "source": [
    "<span style=\"color:#337AB7;\n",
    "             font-size:180%;\">\n",
    "Battery Power"
   ]
  },
  {
   "cell_type": "code",
   "execution_count": null,
   "metadata": {},
   "outputs": [],
   "source": [
    "plt.hist(df['battery_power'])"
   ]
  },
  {
   "cell_type": "markdown",
   "metadata": {},
   "source": [
    "<span style=\"color:#337AB7;\n",
    "             font-size:180%;\">\n",
    "Int Memory"
   ]
  },
  {
   "cell_type": "code",
   "execution_count": null,
   "metadata": {},
   "outputs": [],
   "source": [
    "plt.hist(df['int_memory'])"
   ]
  },
  {
   "cell_type": "markdown",
   "metadata": {},
   "source": [
    "<a id = \"9\"></a>\n",
    "<span style=\"color:#337AB7;\n",
    "             font-size:180%;\">\n",
    "Ram - Price Range"
   ]
  },
  {
   "cell_type": "code",
   "execution_count": null,
   "metadata": {},
   "outputs": [],
   "source": [
    "sns.boxplot(x='price_range', y='ram', data=df)"
   ]
  },
  {
   "cell_type": "markdown",
   "metadata": {},
   "source": [
    "<a id = \"8\"></a>\n",
    "<span style=\"color:#337AB7;\n",
    "             font-size:180%;\">\n",
    "Battery Power - Price Range"
   ]
  },
  {
   "cell_type": "code",
   "execution_count": null,
   "metadata": {},
   "outputs": [],
   "source": [
    "sns.boxplot(x='price_range', y='battery_power', data=df)"
   ]
  },
  {
   "cell_type": "markdown",
   "metadata": {},
   "source": [
    "<a id = \"6\"></a>\n",
    "<span style=\"color:#337AB7;\n",
    "             font-size:180%;\">\n",
    "Phone Height - Price Range"
   ]
  },
  {
   "cell_type": "code",
   "execution_count": null,
   "metadata": {},
   "outputs": [],
   "source": [
    "sns.histplot(data=df, x='px_height', hue='price_range', palette='deep')"
   ]
  },
  {
   "cell_type": "markdown",
   "metadata": {},
   "source": [
    "<a id = \"7\"></a>\n",
    "<span style=\"color:#337AB7;\n",
    "             font-size:180%;\">\n",
    "Phone Width - Price Range"
   ]
  },
  {
   "cell_type": "code",
   "execution_count": null,
   "metadata": {},
   "outputs": [],
   "source": [
    "sns.histplot(data=df, x='px_width', hue='price_range', palette='deep')"
   ]
  },
  {
   "cell_type": "markdown",
   "metadata": {},
   "source": [
    "<a id = \"11\"></a>\n",
    "<span style=\"color:#337AB7;\n",
    "             font-size:180%;\">\n",
    "Correlation Map"
   ]
  },
  {
   "cell_type": "code",
   "execution_count": null,
   "metadata": {},
   "outputs": [],
   "source": [
    "matrix = np.triu(df.corr())\n",
    "sns.set_style(\"white\")\n",
    "f,ax=plt.subplots(figsize = (16,16))\n",
    "sns.heatmap(df.corr(),annot= True,fmt = \".2f\",ax=ax,\n",
    "            vmin = -1,\n",
    "            vmax = 1, mask = matrix,cmap = \"coolwarm\",\n",
    "            linewidth = 0.2,linecolor = \"white\")\n",
    "plt.xticks(rotation=70)\n",
    "plt.yticks(rotation=0)\n",
    "plt.title('Correlation Map', size = 14)\n",
    "plt.show()"
   ]
  },
  {
   "cell_type": "markdown",
   "metadata": {},
   "source": [
    "<a id = \"12\"></a>\n",
    "<span style=\"color:#337AB7;\n",
    "             font-size:180%;\">\n",
    "Thresholded Correlation Map"
   ]
  },
  {
   "cell_type": "code",
   "execution_count": null,
   "metadata": {},
   "outputs": [],
   "source": [
    "corr_matrix = df.corr()\n",
    "\n",
    "threshold = 0.20\n",
    "filter = np.abs(corr_matrix[\"price_range\"])>threshold\n",
    "corr_features = corr_matrix.columns[filter].tolist()\n",
    "\n",
    "f,ax=plt.subplots(figsize = (6,6))\n",
    "sns.heatmap(df[corr_features].corr(),annot= True,fmt = \".2f\",\n",
    "            vmin = -1,vmax = 1,ax=ax,annot_kws={\"size\": 16},cmap = \"coolwarm\")\n",
    "plt.xticks(rotation=45, size = 14)\n",
    "plt.yticks(rotation=0, size = 14)\n",
    "plt.title('Correlation btw Features', size = 14)\n",
    "plt.show()"
   ]
  },
  {
   "cell_type": "markdown",
   "metadata": {},
   "source": [
    "<a id = \"13\"></a>\n",
    "<span style=\"color:#337AB7;\n",
    "             font-size:200%;\">\n",
    "# Preprocessing\n",
    "    \n",
    "<a id = \"14\"></a>\n",
    "<span style=\"color:#337AB7;\n",
    "             font-size:180%;\">\n",
    "## Train Test Split"
   ]
  },
  {
   "cell_type": "code",
   "execution_count": null,
   "metadata": {},
   "outputs": [],
   "source": [
    "random_state = 42\n",
    "\n",
    "X = df.iloc[:,0:20].values\n",
    "y = df.iloc[:, 20].values\n",
    "\n",
    "X_train, X_test, y_train, y_test = train_test_split(X, y, test_size = 0.2, random_state = random_state)"
   ]
  },
  {
   "cell_type": "markdown",
   "metadata": {},
   "source": [
    "<a id = \"15\"></a>\n",
    "<span style=\"color:#337AB7;\n",
    "             font-size:180%;\">\n",
    "## Standardization"
   ]
  },
  {
   "cell_type": "code",
   "execution_count": null,
   "metadata": {},
   "outputs": [],
   "source": [
    "sc = StandardScaler()\n",
    "\n",
    "X_train = sc.fit_transform(X_train)\n",
    "X_test = sc.transform(X_test)"
   ]
  },
  {
   "cell_type": "markdown",
   "metadata": {},
   "source": [
    "<a id = \"16\"></a>\n",
    "<span style=\"color:#337AB7;\n",
    "             font-size:200%;\">\n",
    "# Models\n",
    "    \n",
    "<a id = \"17\"></a>\n",
    "<span style=\"color:#337AB7;\n",
    "             font-size:180%;\">\n",
    "## Logistic Regression"
   ]
  },
  {
   "cell_type": "code",
   "execution_count": null,
   "metadata": {},
   "outputs": [],
   "source": [
    "classifier = LogisticRegression(random_state = random_state)\n",
    "\n",
    "classifier.fit(X_train,y_train)\n",
    "\n",
    "y_pred = classifier.predict(X_test)\n",
    "\n",
    "print(classification_report(y_test, y_pred))"
   ]
  },
  {
   "cell_type": "code",
   "execution_count": null,
   "metadata": {},
   "outputs": [],
   "source": [
    "cm = confusion_matrix(y_test, y_pred)\n",
    "\n",
    "df1 = pd.DataFrame(columns=[\"0\",\"1\",\"2\",\"3\"], index= [\"0\",\"1\",\"2\",\"3\"], data= cm )\n",
    "\n",
    "f,ax = plt.subplots(figsize=(6,6))\n",
    "\n",
    "sns.heatmap(df1, annot=True,cmap=\"Greens\", fmt= '.0f',\n",
    "            ax=ax,linewidths = 5, cbar = False,annot_kws={\"size\": 16})\n",
    "plt.xlabel(\"Predicted Label\")\n",
    "plt.xticks(size = 12)\n",
    "plt.yticks(size = 12, rotation = 0)\n",
    "plt.ylabel(\"True Label\")\n",
    "plt.title(\"Confusion Matrix\", size = 12)\n",
    "plt.show()"
   ]
  },
  {
   "cell_type": "markdown",
   "metadata": {},
   "source": [
    "<a id = \"19\"></a>\n",
    "<span style=\"color:#337AB7;\n",
    "             font-size:180%;\">\n",
    "Hyperparameter Tuning - Grid Search - Cross Validation\n",
    "    \n",
    "We will compare 8 classifier and evaluate mean accuracy of each of them by stratified cross validation.\n",
    "\n",
    "- Decision Tree Classifier\n",
    "- SVC\n",
    "- Random Forest Classifier\n",
    "- Logistic Regression\n",
    "- KNN Classifier\n",
    "- XGBoost Classifier\n",
    "- LightGBM Classifier"
   ]
  },
  {
   "cell_type": "code",
   "execution_count": null,
   "metadata": {},
   "outputs": [],
   "source": []
  },
  {
   "cell_type": "code",
   "execution_count": null,
   "metadata": {},
   "outputs": [],
   "source": [
    "%%time\n",
    "classifier = [DecisionTreeClassifier(random_state = random_state),\n",
    "             SVC(random_state = random_state, probability = True),\n",
    "             RandomForestClassifier(random_state = random_state),\n",
    "             LogisticRegression(random_state = random_state),\n",
    "             KNeighborsClassifier(),\n",
    "             XGBClassifier(random_state = random_state),\n",
    "             LGBMClassifier(random_state = random_state)]\n",
    "\n",
    "dt_param_grid = {\"min_samples_split\" : range(10,500,20),\n",
    "                \"max_depth\": range(1,20,2)}\n",
    "\n",
    "svc_param_grid = {\"kernel\" : [\"rbf\"],\n",
    "                 \"gamma\": [0.001, 0.01, 0.1, 1],\n",
    "                 \"C\": [0.1, 1,10,50,100,200,300,1000]}\n",
    "\n",
    "rf_param_grid = {\"max_features\": [1,3,10],\n",
    "                \"min_samples_split\":[2,3,10],\n",
    "                \"min_samples_leaf\":[1,3,10],\n",
    "                \"bootstrap\":[False],\n",
    "                \"n_estimators\":[100,300],\n",
    "                \"criterion\":[\"gini\"]}\n",
    "\n",
    "logreg_param_grid = {\"C\":np.logspace(-4, 4, 20),\n",
    "                    \"penalty\": [\"l1\",\"l2\",\"none\"]}\n",
    "\n",
    "knn_param_grid = {\"n_neighbors\": np.linspace(2,20,12, dtype = int).tolist(),\n",
    "                 \"weights\": [\"uniform\",\"distance\"],\n",
    "                 \"metric\":[\"euclidean\",\"manhattan\",\"minkowski\"],\n",
    "                 \"leaf_size\": [1,3,5,12,30]}\n",
    "\n",
    "xgbc_param_grid = {\n",
    "'max_depth': [2,5],\n",
    "    'learning_rate': [0.1, 0.3, 0.5, 0.7],\n",
    "    'n_estimators': [100,200,300]\n",
    "}\n",
    "\n",
    "\n",
    "lgbmc_param_grid = {\n",
    "    'num_leaves': [31, 127],\n",
    "    'reg_alpha': [0.1, 0.5],\n",
    "    'min_data_in_leaf': [30, 50, 100, 300],\n",
    "    'lambda_l1': [0, 1, 1.5],\n",
    "    'lambda_l2': [0, 1]}\n",
    "\n",
    "\n",
    "classifier_param = [dt_param_grid,\n",
    "                   svc_param_grid,\n",
    "                   rf_param_grid,\n",
    "                   logreg_param_grid,\n",
    "                   knn_param_grid,\n",
    "                   xgbc_param_grid,\n",
    "                   lgbmc_param_grid]\n",
    "\n",
    "cv_result = []\n",
    "best_estimators = []\n",
    "mean_squared_errors = []\n",
    "roc_auc_scores = []\n",
    "recall_scores = []\n",
    "precision_scores = []\n",
    "f1_scores = []\n",
    "\n",
    "\n",
    "for i in range(len(classifier)):\n",
    "    print(\"---------------------------------------------------------------------------\")\n",
    "    clf = RandomizedSearchCV(classifier[i],\n",
    "                       param_distributions=classifier_param[i],\n",
    "                       cv = StratifiedKFold(n_splits = 2),\n",
    "                       scoring = \"accuracy\",verbose = 2)\n",
    "    \n",
    "    clf.fit(X_train,y_train)\n",
    "    \n",
    "    cv_result.append(clf.best_score_)\n",
    "    \n",
    "    mean_squared_errors.append(mean_squared_error(y_test,clf.predict(X_test)))\n",
    "    \n",
    "    roc_auc_scores.append(roc_auc_score(y_test, clf.predict_proba(X_test), multi_class='ovr'))\n",
    "    \n",
    "    recall_scores.append(recall_score(y_test, clf.predict(X_test), average='weighted'))\n",
    "    \n",
    "    precision_scores.append(precision_score(y_test, clf.predict(X_test), average='weighted'))\n",
    "    \n",
    "    f1_scores.append(f1_score(y_test, clf.predict(X_test), average='weighted'))\n",
    "    \n",
    "    best_estimators.append(clf.best_estimator_)\n",
    "    \n",
    "    print(\"Model: {}\".format(classifier[i]))\n",
    "    print(\"Accuracy: %{}\".format(round(cv_result[i]*100,2)))\n",
    "    print(\"MSE: {}\".format(mean_squared_errors[i]))\n",
    "    print(\"ROC AUC: {}\".format(roc_auc_scores[i]))\n",
    "    print(\"Recall: {}\".format(recall_scores[i]))\n",
    "    print(\"Precision: {}\".format(precision_scores[i]))\n",
    "    print(\"F1-Score: {}\".format(f1_scores[i]))\n",
    "    print(\"Best Estimator: {}\".format(clf.best_estimator_))\n",
    "    \n",
    "print(\"---------------------------------------------------------------------------\")\n",
    "\n",
    "sns.set_style(\"darkgrid\")\n",
    "cv_results = pd.DataFrame({\"Accuracy\":cv_result,\n",
    "                           \"MSE\":mean_squared_errors,\n",
    "                           \"ROC AUC\":roc_auc_scores,\n",
    "                           \"Recall\": recall_scores,\n",
    "                           \"Precision\": precision_scores,\n",
    "                           \"F1-Score\":f1_scores,\n",
    "                           \"Models\":[\"DecisionTreeClassifier\", \n",
    "                                     \"SVC\",\n",
    "                                     \"RandomForestClassifier\",\n",
    "                                     \"LogisticRegression\",\n",
    "                                     \"KNeighborsClassifier\",\n",
    "                                     \"XGBClassifier\",\n",
    "                                     \"LGBMClassifier\"]})\n",
    "\n",
    "cv_results.index = cv_results[\"Models\"]\n",
    "\n",
    "cv_results  = cv_results.drop([\"Models\"], axis = 1)\n",
    "\n"
   ]
  },
  {
   "cell_type": "code",
   "execution_count": null,
   "metadata": {},
   "outputs": [],
   "source": [
    "f,ax = plt.subplots(figsize=(14,10))\n",
    "\n",
    "sns.heatmap(cv_results, annot=True,cmap = \"Blues\",fmt= '.3f',\n",
    "            ax=ax,linewidths = 5, cbar = False,\n",
    "            annot_kws={\"size\": 18})\n",
    "\n",
    "plt.xticks(size = 18)\n",
    "plt.yticks(size = 18, rotation = 0)\n",
    "plt.ylabel(\"Models\")\n",
    "plt.title(\"Random Search Results\", size = 16)\n",
    "plt.show()"
   ]
  },
  {
   "cell_type": "code",
   "execution_count": null,
   "metadata": {},
   "outputs": [],
   "source": [
    "sns.set_style(\"darkgrid\")\n",
    "cv_results = pd.DataFrame({\"Cross Validation Means\":cv_result,\n",
    "                           \"Models\":[\"DecisionTreeClassifier\", \"SVC\",\n",
    "                                     \"RandomForestClassifier\",\n",
    "                                     \"LogisticRegression\",\n",
    "                                     \"KNeighborsClassifier\",\n",
    "                                     \"XGBClassifier\",\n",
    "                                     \"LGBMClassifier\"]})\n",
    "\n",
    "plt.figure(figsize = (10,6))\n",
    "sns.barplot(\"Cross Validation Means\", \"Models\",\n",
    "            data = cv_results, palette = \"Set1\")\n",
    "plt.xlabel(\"Mean Accuracy\",\n",
    "           size = 12)\n",
    "plt.yticks(size = 14)\n",
    "plt.title(\"Cross Validation Scores\",\n",
    "          size = 12)\n",
    "plt.show()"
   ]
  },
  {
   "cell_type": "code",
   "execution_count": null,
   "metadata": {},
   "outputs": [],
   "source": []
  },
  {
   "cell_type": "code",
   "execution_count": null,
   "metadata": {},
   "outputs": [],
   "source": []
  }
 ],
 "metadata": {
  "kernelspec": {
   "display_name": "Python 3 (ipykernel)",
   "language": "python",
   "name": "python3"
  },
  "language_info": {
   "codemirror_mode": {
    "name": "ipython",
    "version": 3
   },
   "file_extension": ".py",
   "mimetype": "text/x-python",
   "name": "python",
   "nbconvert_exporter": "python",
   "pygments_lexer": "ipython3",
   "version": "3.8.13"
  },
  "toc-autonumbering": true
 },
 "nbformat": 4,
 "nbformat_minor": 4
}
